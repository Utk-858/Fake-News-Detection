{
  "cells": [
    {
      "cell_type": "code",
      "execution_count": 2,
      "metadata": {
        "colab": {
          "base_uri": "https://localhost:8080/"
        },
        "id": "sRW19prFgOj0",
        "outputId": "decd83fc-a933-4857-dd76-be5e0868ba83"
      },
      "outputs": [],
      "source": [
        "# from google.colab import drive\n",
        "# drive.mount('/content/drive')\n"
      ]
    },
    {
      "cell_type": "code",
      "execution_count": 3,
      "metadata": {
        "id": "QU5ibfvrlLyW"
      },
      "outputs": [],
      "source": [
        "# file_path = '/content/drive/My Drive/merged_news.csv'\n"
      ]
    },
    {
      "cell_type": "code",
      "execution_count": 4,
      "metadata": {
        "colab": {
          "base_uri": "https://localhost:8080/",
          "height": 643
        },
        "id": "en-qBrgOlgza",
        "outputId": "7f0fb24c-7147-4ece-bbd8-d6c7f8e07c88"
      },
      "outputs": [
        {
          "data": {
            "text/html": [
              "<div>\n",
              "<style scoped>\n",
              "    .dataframe tbody tr th:only-of-type {\n",
              "        vertical-align: middle;\n",
              "    }\n",
              "\n",
              "    .dataframe tbody tr th {\n",
              "        vertical-align: top;\n",
              "    }\n",
              "\n",
              "    .dataframe thead th {\n",
              "        text-align: right;\n",
              "    }\n",
              "</style>\n",
              "<table border=\"1\" class=\"dataframe\">\n",
              "  <thead>\n",
              "    <tr style=\"text-align: right;\">\n",
              "      <th></th>\n",
              "      <th>title</th>\n",
              "      <th>link</th>\n",
              "      <th>published</th>\n",
              "      <th>source</th>\n",
              "      <th>description</th>\n",
              "      <th>source_type</th>\n",
              "      <th>label</th>\n",
              "      <th>scraped_at</th>\n",
              "      <th>fact_check_link</th>\n",
              "      <th>fact_check_verdict</th>\n",
              "      <th>subject</th>\n",
              "    </tr>\n",
              "  </thead>\n",
              "  <tbody>\n",
              "    <tr>\n",
              "      <th>0</th>\n",
              "      <td>Putin announces three-day Russian ceasefire in...</td>\n",
              "      <td>https://www.bbc.com/news/articles/c62j1848509o</td>\n",
              "      <td>Mon, 28 Apr 2025 13:40:51 GMT</td>\n",
              "      <td>BBC News</td>\n",
              "      <td>Ukraine calls for an \"immediate\" ceasefire of ...</td>\n",
              "      <td>credible</td>\n",
              "      <td>unknown</td>\n",
              "      <td>2025-04-28T15:46:01.579561</td>\n",
              "      <td>https://factcheck.afp.com/doc.afp.com.42BV3CV</td>\n",
              "      <td>altered picture</td>\n",
              "      <td>unknown</td>\n",
              "    </tr>\n",
              "    <tr>\n",
              "      <th>1</th>\n",
              "      <td>Girl, 14, who stabbed teachers sentenced to 15...</td>\n",
              "      <td>https://www.bbc.com/news/articles/c3v9y544wq6o</td>\n",
              "      <td>Mon, 28 Apr 2025 13:10:44 GMT</td>\n",
              "      <td>BBC News</td>\n",
              "      <td>Teenager who stabbed two teachers and a pupil ...</td>\n",
              "      <td>credible</td>\n",
              "      <td>unknown</td>\n",
              "      <td>2025-04-28T15:46:01.579715</td>\n",
              "      <td>NaN</td>\n",
              "      <td>NaN</td>\n",
              "      <td>unknown</td>\n",
              "    </tr>\n",
              "    <tr>\n",
              "      <th>2</th>\n",
              "      <td>Ultra-processed foods may be linked to early d...</td>\n",
              "      <td>https://www.bbc.com/news/articles/crm30kwvv17o</td>\n",
              "      <td>Mon, 28 Apr 2025 12:47:47 GMT</td>\n",
              "      <td>BBC News</td>\n",
              "      <td>UPFs, such as crisps, biscuits, ice cream, hot...</td>\n",
              "      <td>credible</td>\n",
              "      <td>unknown</td>\n",
              "      <td>2025-04-28T15:46:01.579841</td>\n",
              "      <td>NaN</td>\n",
              "      <td>NaN</td>\n",
              "      <td>unknown</td>\n",
              "    </tr>\n",
              "    <tr>\n",
              "      <th>3</th>\n",
              "      <td>No extra cash for teacher and NHS staff pay ri...</td>\n",
              "      <td>https://www.bbc.com/news/articles/cpq7324qdj9o</td>\n",
              "      <td>Mon, 28 Apr 2025 12:49:40 GMT</td>\n",
              "      <td>BBC News</td>\n",
              "      <td>Pay review bodies recommend increases for teac...</td>\n",
              "      <td>credible</td>\n",
              "      <td>unknown</td>\n",
              "      <td>2025-04-28T15:46:01.580020</td>\n",
              "      <td>NaN</td>\n",
              "      <td>NaN</td>\n",
              "      <td>unknown</td>\n",
              "    </tr>\n",
              "    <tr>\n",
              "      <th>4</th>\n",
              "      <td>UK could see hottest April weather in seven ye...</td>\n",
              "      <td>https://www.bbc.com/weather/articles/cy489e83j74o</td>\n",
              "      <td>Mon, 28 Apr 2025 13:28:13 GMT</td>\n",
              "      <td>BBC News</td>\n",
              "      <td>Temperatures are climbing this week with most ...</td>\n",
              "      <td>credible</td>\n",
              "      <td>unknown</td>\n",
              "      <td>2025-04-28T15:46:01.580127</td>\n",
              "      <td>https://science.feedback.org/review/breitbart-...</td>\n",
              "      <td>inaccurate</td>\n",
              "      <td>unknown</td>\n",
              "    </tr>\n",
              "  </tbody>\n",
              "</table>\n",
              "</div>"
            ],
            "text/plain": [
              "                                               title  \\\n",
              "0  Putin announces three-day Russian ceasefire in...   \n",
              "1  Girl, 14, who stabbed teachers sentenced to 15...   \n",
              "2  Ultra-processed foods may be linked to early d...   \n",
              "3  No extra cash for teacher and NHS staff pay ri...   \n",
              "4  UK could see hottest April weather in seven ye...   \n",
              "\n",
              "                                                link  \\\n",
              "0     https://www.bbc.com/news/articles/c62j1848509o   \n",
              "1     https://www.bbc.com/news/articles/c3v9y544wq6o   \n",
              "2     https://www.bbc.com/news/articles/crm30kwvv17o   \n",
              "3     https://www.bbc.com/news/articles/cpq7324qdj9o   \n",
              "4  https://www.bbc.com/weather/articles/cy489e83j74o   \n",
              "\n",
              "                       published    source  \\\n",
              "0  Mon, 28 Apr 2025 13:40:51 GMT  BBC News   \n",
              "1  Mon, 28 Apr 2025 13:10:44 GMT  BBC News   \n",
              "2  Mon, 28 Apr 2025 12:47:47 GMT  BBC News   \n",
              "3  Mon, 28 Apr 2025 12:49:40 GMT  BBC News   \n",
              "4  Mon, 28 Apr 2025 13:28:13 GMT  BBC News   \n",
              "\n",
              "                                         description source_type    label  \\\n",
              "0  Ukraine calls for an \"immediate\" ceasefire of ...    credible  unknown   \n",
              "1  Teenager who stabbed two teachers and a pupil ...    credible  unknown   \n",
              "2  UPFs, such as crisps, biscuits, ice cream, hot...    credible  unknown   \n",
              "3  Pay review bodies recommend increases for teac...    credible  unknown   \n",
              "4  Temperatures are climbing this week with most ...    credible  unknown   \n",
              "\n",
              "                   scraped_at  \\\n",
              "0  2025-04-28T15:46:01.579561   \n",
              "1  2025-04-28T15:46:01.579715   \n",
              "2  2025-04-28T15:46:01.579841   \n",
              "3  2025-04-28T15:46:01.580020   \n",
              "4  2025-04-28T15:46:01.580127   \n",
              "\n",
              "                                     fact_check_link fact_check_verdict  \\\n",
              "0      https://factcheck.afp.com/doc.afp.com.42BV3CV    altered picture   \n",
              "1                                                NaN                NaN   \n",
              "2                                                NaN                NaN   \n",
              "3                                                NaN                NaN   \n",
              "4  https://science.feedback.org/review/breitbart-...         inaccurate   \n",
              "\n",
              "   subject  \n",
              "0  unknown  \n",
              "1  unknown  \n",
              "2  unknown  \n",
              "3  unknown  \n",
              "4  unknown  "
            ]
          },
          "execution_count": 4,
          "metadata": {},
          "output_type": "execute_result"
        }
      ],
      "source": [
        "import pandas as pd\n",
        "# df = pd.read_csv(file_path)\n",
        "df = pd.read_csv(\"merged_news.csv\")\n",
        "\n",
        "df.head()\n"
      ]
    },
    {
      "cell_type": "code",
      "execution_count": 5,
      "metadata": {
        "colab": {
          "base_uri": "https://localhost:8080/"
        },
        "id": "jSYXYI0hljCo",
        "outputId": "96954631-062d-471d-ecd2-558849e6ca8b"
      },
      "outputs": [
        {
          "name": "stdout",
          "output_type": "stream",
          "text": [
            "Shape: (45450, 11)\n",
            "Number of rows: 45450\n",
            "Number of columns: 11\n"
          ]
        }
      ],
      "source": [
        "print(\"Shape:\", df.shape)  # (rows, columns)\n",
        "print(\"Number of rows:\", df.shape[0])\n",
        "print(\"Number of columns:\", df.shape[1])\n"
      ]
    },
    {
      "cell_type": "code",
      "execution_count": 6,
      "metadata": {
        "id": "Gh3fT53plvWD"
      },
      "outputs": [],
      "source": [
        "from sklearn.model_selection import train_test_split\n",
        "from sklearn.feature_extraction.text import TfidfVectorizer\n",
        "\n",
        "# Features and labels\n",
        "df['text'] = df['title'].astype(str) + \" \" + df['description'].astype(str)\n",
        "\n",
        "X = df['text']\n",
        "y = df['label']\n",
        "\n",
        "# Split into train and test sets\n",
        "X_train, X_test, y_train, y_test = train_test_split(X, y, test_size=0.2, random_state=42)\n",
        "\n",
        "# Vectorize text using TF-IDF\n",
        "vectorizer = TfidfVectorizer(stop_words='english', max_df=0.7)\n",
        "X_train_tfidf = vectorizer.fit_transform(X_train)\n",
        "X_test_tfidf = vectorizer.transform(X_test)\n"
      ]
    },
    {
      "cell_type": "code",
      "execution_count": 7,
      "metadata": {
        "colab": {
          "base_uri": "https://localhost:8080/"
        },
        "id": "g27dfzbyoT0k",
        "outputId": "218bd2c3-459b-4546-c06b-627e2025ecae"
      },
      "outputs": [
        {
          "name": "stdout",
          "output_type": "stream",
          "text": [
            "                                                text    label\n",
            "0  Putin announces three-day Russian ceasefire in...  unknown\n",
            "1  Girl, 14, who stabbed teachers sentenced to 15...  unknown\n",
            "2  Ultra-processed foods may be linked to early d...  unknown\n",
            "3  No extra cash for teacher and NHS staff pay ri...  unknown\n",
            "4  UK could see hottest April weather in seven ye...  unknown\n"
          ]
        }
      ],
      "source": [
        "print(df[['text', 'label']].head())\n"
      ]
    },
    {
      "cell_type": "code",
      "execution_count": 8,
      "metadata": {
        "colab": {
          "base_uri": "https://localhost:8080/"
        },
        "id": "z8zIwq2IpC44",
        "outputId": "cb5fdd7d-d97b-402e-ebb3-290a8d72a0fe"
      },
      "outputs": [
        {
          "name": "stdout",
          "output_type": "stream",
          "text": [
            "label\n",
            "fake       23608\n",
            "true       21417\n",
            "unknown      423\n",
            "real           2\n",
            "Name: count, dtype: int64\n"
          ]
        }
      ],
      "source": [
        "print(df['label'].value_counts())\n"
      ]
    },
    {
      "cell_type": "code",
      "execution_count": 9,
      "metadata": {
        "colab": {
          "base_uri": "https://localhost:8080/"
        },
        "id": "mJysAI8nq0tw",
        "outputId": "0618ff54-86f4-4126-9416-ad7630ab8316"
      },
      "outputs": [
        {
          "name": "stdout",
          "output_type": "stream",
          "text": [
            "Accuracy: 92.39%\n",
            "Confusion Matrix:\n",
            "[[4408    0  257    0]\n",
            " [   0    0    1    0]\n",
            " [ 351    0 3990    0]\n",
            " [  38    0   45    0]]\n",
            "Classification Report:\n",
            "              precision    recall  f1-score   support\n",
            "\n",
            "        fake       0.92      0.94      0.93      4665\n",
            "        real       0.00      0.00      0.00         1\n",
            "        true       0.93      0.92      0.92      4341\n",
            "     unknown       0.00      0.00      0.00        83\n",
            "\n",
            "    accuracy                           0.92      9090\n",
            "   macro avg       0.46      0.47      0.46      9090\n",
            "weighted avg       0.92      0.92      0.92      9090\n",
            "\n"
          ]
        },
        {
          "name": "stderr",
          "output_type": "stream",
          "text": [
            "/opt/anaconda3/lib/python3.12/site-packages/sklearn/metrics/_classification.py:1531: UndefinedMetricWarning: Precision is ill-defined and being set to 0.0 in labels with no predicted samples. Use `zero_division` parameter to control this behavior.\n",
            "  _warn_prf(average, modifier, f\"{metric.capitalize()} is\", len(result))\n",
            "/opt/anaconda3/lib/python3.12/site-packages/sklearn/metrics/_classification.py:1531: UndefinedMetricWarning: Precision is ill-defined and being set to 0.0 in labels with no predicted samples. Use `zero_division` parameter to control this behavior.\n",
            "  _warn_prf(average, modifier, f\"{metric.capitalize()} is\", len(result))\n",
            "/opt/anaconda3/lib/python3.12/site-packages/sklearn/metrics/_classification.py:1531: UndefinedMetricWarning: Precision is ill-defined and being set to 0.0 in labels with no predicted samples. Use `zero_division` parameter to control this behavior.\n",
            "  _warn_prf(average, modifier, f\"{metric.capitalize()} is\", len(result))\n"
          ]
        }
      ],
      "source": [
        "from sklearn.naive_bayes import MultinomialNB\n",
        "from sklearn.metrics import accuracy_score, confusion_matrix, classification_report\n",
        "\n",
        "# Create and train the Naive Bayes model\n",
        "nb_model = MultinomialNB()\n",
        "nb_model.fit(X_train_tfidf, y_train)\n",
        "\n",
        "# Predict on the test data\n",
        "y_pred = nb_model.predict(X_test_tfidf)\n",
        "\n",
        "# Evaluate the model\n",
        "accuracy = accuracy_score(y_test, y_pred)\n",
        "conf_matrix = confusion_matrix(y_test, y_pred)\n",
        "class_report = classification_report(y_test, y_pred)\n",
        "\n",
        "# Print results\n",
        "print(f\"Accuracy: {accuracy * 100:.2f}%\")\n",
        "print(\"Confusion Matrix:\")\n",
        "print(conf_matrix)\n",
        "print(\"Classification Report:\")\n",
        "\n",
        "print(class_report)\n"
      ]
    },
    {
      "cell_type": "code",
      "execution_count": null,
      "metadata": {
        "id": "Yo47Y2-QrgUG"
      },
      "outputs": [],
      "source": []
    }
  ],
  "metadata": {
    "colab": {
      "provenance": []
    },
    "kernelspec": {
      "display_name": "base",
      "language": "python",
      "name": "python3"
    },
    "language_info": {
      "codemirror_mode": {
        "name": "ipython",
        "version": 3
      },
      "file_extension": ".py",
      "mimetype": "text/x-python",
      "name": "python",
      "nbconvert_exporter": "python",
      "pygments_lexer": "ipython3",
      "version": "3.12.7"
    }
  },
  "nbformat": 4,
  "nbformat_minor": 0
}
